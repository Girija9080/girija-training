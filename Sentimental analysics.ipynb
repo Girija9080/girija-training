{
 "cells": [
  {
   "cell_type": "code",
   "execution_count": null,
   "id": "74c30cb3",
   "metadata": {},
   "outputs": [],
   "source": [
    "pip install --user -U textblob"
   ]
  },
  {
   "cell_type": "code",
   "execution_count": null,
   "id": "821a6d64",
   "metadata": {},
   "outputs": [],
   "source": [
    "#import necessary libraries\n",
    "import nltk\n",
    "from nltk.corpus import stopwords\n",
    "from nltk.tokenize import word_tokenize\n",
    "from nltk.stem import PorterStemmer, WordNetLemmatizer\n",
    "from textblob import TextBlob"
   ]
  },
  {
   "cell_type": "code",
   "execution_count": null,
   "id": "e8afc1e5",
   "metadata": {},
   "outputs": [],
   "source": [
    "# Download required nltk packages(only needed for first time)\n",
    "nltk.download('punkt')\n",
    "nltk.download('stopwords')\n",
    "nltk.download('averaged_perceptron_tagger')\n",
    "nltk.download('wordnet')"
   ]
  },
  {
   "cell_type": "code",
   "execution_count": null,
   "id": "6fe449cd",
   "metadata": {},
   "outputs": [],
   "source": [
    "#Example text\n",
    "text = \"the product is not good\""
   ]
  },
  {
   "cell_type": "code",
   "execution_count": null,
   "id": "00bef36d",
   "metadata": {},
   "outputs": [],
   "source": [
    "#step 1; Tokenization (splitting the text into words)\n",
    "tokens = word_tokensize(text)\n",
    "print(\"Tokens:\",tokens)"
   ]
  },
  {
   "cell_type": "code",
   "execution_count": null,
   "id": "f6742e91",
   "metadata": {},
   "outputs": [],
   "source": [
    "#step 2: Remove stopwords (filter out common,non essential words)\n",
    "stop_words=set(stopwords.words('english'))\n",
    "filterd_tokens=[word for word in tokens if word.lower() not in stop_words]\n",
    "print(\"Filtered Tokens:\",filtered_tokens)"
   ]
  },
  {
   "cell_type": "code",
   "execution_count": null,
   "id": "78d6c2c6",
   "metadata": {},
   "outputs": [],
   "source": [
    "#step 3: stemming(reduce words to their root form)\n",
    "ps = PorterStemmer()\n",
    "stemmed_tokens = [ps.stem(word) for word in filtered_tokens]\n",
    "print(\"Stemmed Tokens:\",Stemmed_tokens)"
   ]
  },
  {
   "cell_type": "code",
   "execution_count": null,
   "id": "3a626139",
   "metadata": {},
   "outputs": [],
   "source": [
    "#step 4: Lemmatization (reduce words to their base form considering the context)\n",
    "lemmatizer = WordNetLemmatized()\n",
    "lemmatized_tokens = [lemmatizer.lemmatize(word) for word in filtered_tokens]\n",
    "print(\"Lemmatized Tokens:\", lemmatized_tokens)"
   ]
  },
  {
   "cell_type": "code",
   "execution_count": null,
   "id": "7a722142",
   "metadata": {},
   "outputs": [],
   "source": [
    "#step 5: Part-of-speech (pos) Tagging (assign grammatical categories to each word)\n",
    "pos_tags = nltk.pos_tag(filtered_tokens)\n",
    "print(\"POS Tags:\",pos_tags)"
   ]
  },
  {
   "cell_type": "code",
   "execution_count": null,
   "id": "1fe96642",
   "metadata": {},
   "outputs": [],
   "source": [
    "#step 6: Sentiment Analysis using TextBlob and classify as positive,negative,or neutral\n",
    "blob = TextBlob.sentiment.polarity"
   ]
  },
  {
   "cell_type": "code",
   "execution_count": null,
   "id": "27254076",
   "metadata": {},
   "outputs": [],
   "source": [
    "# Determine if the sentiment is positive,negative,or neutral\n",
    "if polarity > 0:\n",
    "    sentiment_label = \"positive\"\n",
    "else polarity < 0:\n",
    "    sentiment_label = \"negative\"\n",
    "else:\n",
    "    sentiment_label = \"Neutral\"\n",
    "    \n",
    "print(f\"sentiment: {sentiment_label}\")    "
   ]
  },
  {
   "cell_type": "code",
   "execution_count": null,
   "id": "899723d4",
   "metadata": {},
   "outputs": [],
   "source": []
  }
 ],
 "metadata": {
  "kernelspec": {
   "display_name": "Python 3 (ipykernel)",
   "language": "python",
   "name": "python3"
  },
  "language_info": {
   "codemirror_mode": {
    "name": "ipython",
    "version": 3
   },
   "file_extension": ".py",
   "mimetype": "text/x-python",
   "name": "python",
   "nbconvert_exporter": "python",
   "pygments_lexer": "ipython3",
   "version": "3.9.7"
  }
 },
 "nbformat": 4,
 "nbformat_minor": 5
}
