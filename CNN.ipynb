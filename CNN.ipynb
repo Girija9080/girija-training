{
 "cells": [
  {
   "cell_type": "code",
   "execution_count": null,
   "id": "757313b4",
   "metadata": {},
   "outputs": [],
   "source": [
    "#Import necessary libraries\n",
    "import nltk\n",
    "from nltk.corpus import stopwords\n",
    "from nltk.tokenize import word_tokenize\n",
    "from nltk.stem import PorterStemmer,WordNetLemmatizer\n",
    "from textblob import TestBlob\n",
    "\n",
    "#Downlod required nltk packages(only needed for first time)\n",
    "nltk.downloed('punkt')\n",
    "nltk.downloed('stopwords')\n",
    "nltk.downloed('averaged_perceptrom_tagger')\n",
    "nltk.downloed('wordnet')\n",
    "\n",
    "#Example text\n",
    "text=\"The product is not good\"\n",
    "\n",
    "#Step 1: Tokenizotion (splitting the text into words)\n",
    "tokens=word_tokenize(text)\n",
    "print(\"Tokens:\",token)\n",
    "\n",
    "#Step 2: Remove stopwords(filter out common,non-essential words)\n",
    "stop_words=set(stopwords.words('english'))\n",
    "filtered_tokens=[word for word in token if word.lower()not in stop_words]\n",
    "print(\"Filttered Tokens:\",filtered_tokens)\n",
    "\n",
    "#Step 3: Stemming(reduce word to their root from)\n",
    "ps=PorterStemmer()\n",
    "stemmed_tokens=[ps.stem(word)for word in filtered_tokans]\n",
    "print(\"Stemmed Tokens:\",stemmd_tokens)\n",
    "\n",
    "#Step 4: Lemmotization(reduce word to thire bose form considering the context)\n",
    "lemmatizer= WordNetlemmatizer()\n",
    "lemmatizer_token=[lemmatizer.lemmatizer(word)for word in filtered_tokens]\n",
    "print(\"Lemmatized Token:\",lemmatized_tokens)\n",
    "\n",
    "#Step 5: Part -of-speech(POS)Tagging(assign grammatical to each word)\n",
    "pos_tags=nltk.pos_tag(filtered_tokens)\n",
    "print(\"POS Tag:\",pos_tags)\n",
    "\n",
    "#Step 6: Sentiment Analysismusing TextBlob and classify as positive,negetive,or nutral\n",
    "blob=testBlob(text)\n",
    "polarity=blob.sentiment.polarity\n",
    "\n",
    "#Determine if the sentiment is positive,nagative,or nautral\n",
    "if polarity>0:\n",
    "    sentiment_label=\"positive\"\n",
    "elif polaity<0:\n",
    "    sentiment_label=\"Negative\"\n",
    "else:\n",
    "    semtiment_label=\"Neutral\"\n",
    "    \n",
    "print(f\"sentiment:{sentiment_label}\")    "
   ]
  }
 ],
 "metadata": {
  "kernelspec": {
   "display_name": "Python 3 (ipykernel)",
   "language": "python",
   "name": "python3"
  },
  "language_info": {
   "codemirror_mode": {
    "name": "ipython",
    "version": 3
   },
   "file_extension": ".py",
   "mimetype": "text/x-python",
   "name": "python",
   "nbconvert_exporter": "python",
   "pygments_lexer": "ipython3",
   "version": "3.9.7"
  }
 },
 "nbformat": 4,
 "nbformat_minor": 5
}
